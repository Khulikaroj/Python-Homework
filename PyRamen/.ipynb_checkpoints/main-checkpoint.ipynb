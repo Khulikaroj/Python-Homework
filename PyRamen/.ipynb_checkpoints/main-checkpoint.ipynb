{
 "cells": [
  {
   "cell_type": "code",
   "execution_count": 22,
   "metadata": {},
   "outputs": [
    {
     "name": "stdout",
     "output_type": "stream",
     "text": [
      "{'spicy miso ramen': 9238, 'tori paitan ramen': 9235, 'truffle butter ramen': 9235, 'tonkotsu ramen': 9238, 'vegetarian spicy miso': 9235, 'shio ramen': 9235, 'miso crab ramen': 9236, 'nagomi shoyu': 9235, 'soft-shell miso crab ramen': 9235, 'burnt garlic tonkotsu ramen': 9235, 'vegetarian curry + king trumpet mushroom ramen': 9235}\n"
     ]
    }
   ],
   "source": [
    "#PyRamen\n",
    "#Objective:Eliminate items which generate loss from restaurant menu. Average(sum of sales - sum of COGS) by item. \n",
    "#Data:Price and cost are stored in different file from the sales record.\n",
    "#1. Prepare csv file reader to map sales record to menu. \n",
    "#2. Looping to count #amount, sum of sales, sum of cost. Stored in report file.\n",
    "\n",
    "# @TODO: Import libraries\n",
    "import csv\n",
    "from pathlib import Path\n",
    "\n",
    "# @TODO: Set file paths for menu_data.csv and sales_data.csv\n",
    "menu_filepath = Path('C:/Users/khuli/Desktop/Python-Homework/PyRamen/menu_data.csv')\n",
    "sales_filepath = Path('C:/Users/khuli/Desktop/Python-Homework/PyRamen/sales_data.csv')\n",
    "\n",
    "# @TODO: Initialize list objects to hold our menu and sales data\n",
    "menu = []\n",
    "sales = []\n",
    "# @TODO: Read in the menu data into the menu list\n",
    "with open (menu_filepath, 'r') as menufile:\n",
    "    menureader = csv.reader(menufile, delimiter = \",\")\n",
    "    menuheader = next(menureader)\n",
    "    for row in menureader:\n",
    "        menu.append(row)\n",
    "# @TODO: Read in the sales data into the sales list\n",
    "with open (sales_filepath, 'r') as salesfile:\n",
    "    salesreader = csv.reader(salesfile, delimiter = \",\")\n",
    "    salesheader = next(salesreader)\n",
    "    for row in salesreader:\n",
    "        sales.append(row)\n",
    "# @TODO: Initialize dict object to hold our key-value pairs of items and metrics\n",
    "report = {}\n",
    "row_count = 0\n",
    "# @TODO: Loop over every row in the sales list object\n",
    "for row in sales:\n",
    "    menu_item = row[4]\n",
    "    count = int(row[3])\n",
    "    report[menu_item] = report.get(key, 0) + count\n",
    "    for row in menu:\n",
    "        if row[0] == menu_item:\n",
    "            price = row[3]\n",
    "            cost = row[4]\n",
    "        else:\n",
    "            price = 0\n",
    "            cost = 0\n",
    "print(report)"
   ]
  },
  {
   "cell_type": "code",
   "execution_count": 23,
   "metadata": {},
   "outputs": [],
   "source": [
    "    # Line_Item_ID,Date,Credit_Card_Number,Quantity,Menu_Item\n",
    "    # @TODO: Initialize sales data variables\n",
    "    # @TODO: For every row in our sales data, loop over the menu records to determine a match          \n",
    "    # @TODO:\n",
    "    # If the item value not in the report, add it as a new entry with initialized metrics\n",
    "    # Naming convention allows the keys to be ordered in logical fashion, count, revenue, cost, profit  \n",
    "        # Item,Category,Description,Price,Cost\n",
    "        # @TODO: Initialize menu data variables\n",
    "        # @TODO: Calculate profit of each item in the menu dat\n",
    "        # @TODO: If the item value in our sales data is equal to the any of the items in the menu, then begin tracking metrics for that item\n",
    "            # @TODO: Print out matching menu data\n",
    "            # @TODO: Cumulatively add up the metrics for each item key\n",
    "        # @TODO: Else, the sales item does not equal any fo the item in the menu data, therefore no match\n",
    "    # @TODO: Increment the row counter by 1\n",
    "# @TODO: Print total number of records in sales data\n",
    "# @TODO: Write out report to a text file (won't appear on the command line output)"
   ]
  },
  {
   "cell_type": "code",
   "execution_count": null,
   "metadata": {},
   "outputs": [],
   "source": []
  }
 ],
 "metadata": {
  "kernelspec": {
   "display_name": "Python 3",
   "language": "python",
   "name": "python3"
  },
  "language_info": {
   "codemirror_mode": {
    "name": "ipython",
    "version": 3
   },
   "file_extension": ".py",
   "mimetype": "text/x-python",
   "name": "python",
   "nbconvert_exporter": "python",
   "pygments_lexer": "ipython3",
   "version": "3.7.6"
  }
 },
 "nbformat": 4,
 "nbformat_minor": 4
}
