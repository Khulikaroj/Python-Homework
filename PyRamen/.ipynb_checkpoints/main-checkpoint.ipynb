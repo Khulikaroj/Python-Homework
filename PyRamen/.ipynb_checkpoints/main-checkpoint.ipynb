{
 "cells": [
  {
   "cell_type": "code",
   "execution_count": null,
   "metadata": {},
   "outputs": [],
   "source": [
    "#PyRamen\n",
    "#Objective:Eliminate items which generate loss from restaurant menu. Average(sum of sales - sum of COGS) bt item. !!! Might need to seperate year.\n",
    "#Data:Price and cost are stored in different file from the sales record.\n",
    "\n",
    "#1. Prepare csv file reader to map sales record to menu. \n",
    "\n",
    "#2. Looping to count #amount, sum of sales, sum of cost. Stored in report file.\n",
    "\n"
   ]
  }
 ],
 "metadata": {
  "kernelspec": {
   "display_name": "Python 3",
   "language": "python",
   "name": "python3"
  },
  "language_info": {
   "codemirror_mode": {
    "name": "ipython",
    "version": 3
   },
   "file_extension": ".py",
   "mimetype": "text/x-python",
   "name": "python",
   "nbconvert_exporter": "python",
   "pygments_lexer": "ipython3",
   "version": "3.7.6"
  }
 },
 "nbformat": 4,
 "nbformat_minor": 4
}
