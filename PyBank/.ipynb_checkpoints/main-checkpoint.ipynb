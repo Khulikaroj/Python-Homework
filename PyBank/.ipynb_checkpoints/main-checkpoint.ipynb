{
 "cells": [
  {
   "cell_type": "code",
   "execution_count": 21,
   "metadata": {},
   "outputs": [
    {
     "name": "stdout",
     "output_type": "stream",
     "text": [
      "['Date', 'Profit/Losses']\n",
      "Total profit and loss during Jan 2010 to Feb 2017 is $ 38,382,578\n",
      "Total operating month is 86 months\n",
      "Average daily profit/loss is $ 446,309.05 per day\n",
      "In best operating day, PyBank made $ 1,926,159\n",
      "In worst operating day, PyBank lost $ -2,196,167\n"
     ]
    }
   ],
   "source": [
    "#PyBank financial record analysis\n",
    "\n",
    "##Required Library\n",
    "from pathlib import Path\n",
    "import csv\n",
    "##Pull CSV file\n",
    "csvpath = Path(\"C:/Users/khuli/Documents/Columbia Boot Camp/20200706-Assignment 2/Python-Homework/PyBank/budget_data.csv\")\n",
    "###Manage row reader\n",
    "with open (csvpath,'r') as csvfile:\n",
    "    csvreader = csv.reader(csvfile, delimiter = \",\")\n",
    "    csvheader = next(csvreader)\n",
    "    print(csvheader)\n",
    "###loop to calculate total month, total Amount of PRofit/Loss\n",
    "    total = 0\n",
    "    count = 0\n",
    "    minimum = 0\n",
    "    maximum = 0\n",
    "    average = 0\n",
    "    for row in csvreader:\n",
    "        total += int(row[1])\n",
    "        count += 1\n",
    "        if minimum == 0:\n",
    "            minimum = 0\n",
    "        elif row[1] < minimum:\n",
    "            minimum = row[1]\n",
    "        elif row[1] > maximum:\n",
    "            maximum = row[1]\n",
    "    average = round(total/count,2)\n",
    "    total_commas = \"{:,}\".format(total)\n",
    "    average_commas = \"{:,}\".format(average)\n",
    "    print(f\"Total profit and loss during Jan 2010 to Feb 2017 is $ {total_commas}\")\n",
    "    print(f\"Total operating month is {count} months\")\n",
    "    print(f\"Average daily profit/loss is $ {average_commas} per day\")\n",
    "\n",
    "\n",
    "### store the current value and previous loop!!\n",
    "###Average change in Profit/Loss\n",
    "###Looping by row to defy best day and worst day from daily change\n",
    "daily_performance = []\n",
    "\n",
    "with open (csvpath,'r') as csvfile:\n",
    "    csvreader = csv.reader(csvfile, delimiter = \",\")\n",
    "    csvheader = next(csvreader)\n",
    "    csvheader.append(\"Daily_Performance\")\n",
    "    previous = 0\n",
    "    best_day = 0\n",
    "    worst_day = 0\n",
    "    for row in csvreader:\n",
    "        daily_change = int(row[1]) - previous\n",
    "        if daily_change == 0:\n",
    "            worst_day = 0\n",
    "        elif daily_change < worst_day:\n",
    "            worst_day = daily_change\n",
    "        elif daily_change > best_day:\n",
    "            best_day = daily_change\n",
    "        previous = int(row[1])\n",
    "        row.append(daily_change)\n",
    "        daily_performance.append(row)\n",
    "    best_day_commas = \"{:,}\".format(best_day)\n",
    "    worst_day_commas = \"{:,}\".format(worst_day)\n",
    "    print(f\"In best operating day, PyBank made $ {best_day_commas}\")\n",
    "    print(f\"In worst operating day, PyBank lost $ {worst_day_commas}\")\n",
    "\n",
    "#Write the output file\n",
    "output = Path(\"C:/Users/khuli/Documents/Columbia Boot Camp/20200706-Assignment 2/Python-Homework/PyBank/data.csv\")\n",
    "with open (output, 'w') as csvfile:\n",
    "    csvwriter = csv.writer(csvfile, delimiter = ',')\n",
    "    for record in daily_performance:\n",
    "        csvwriter.writerow(record)\n",
    "\n"
   ]
  },
  {
   "cell_type": "code",
   "execution_count": null,
   "metadata": {},
   "outputs": [],
   "source": []
  },
  {
   "cell_type": "code",
   "execution_count": null,
   "metadata": {},
   "outputs": [],
   "source": []
  }
 ],
 "metadata": {
  "kernelspec": {
   "display_name": "Python 3",
   "language": "python",
   "name": "python3"
  },
  "language_info": {
   "codemirror_mode": {
    "name": "ipython",
    "version": 3
   },
   "file_extension": ".py",
   "mimetype": "text/x-python",
   "name": "python",
   "nbconvert_exporter": "python",
   "pygments_lexer": "ipython3",
   "version": "3.7.6"
  }
 },
 "nbformat": 4,
 "nbformat_minor": 4
}
