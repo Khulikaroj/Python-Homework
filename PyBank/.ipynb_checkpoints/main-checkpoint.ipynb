{
 "cells": [
  {
   "cell_type": "code",
   "execution_count": 16,
   "metadata": {},
   "outputs": [
    {
     "name": "stdout",
     "output_type": "stream",
     "text": [
      "['Date', 'Profit/Losses']\n",
      "Total profit and loss during Jan 2010 to Feb 2017 is 38,382,578\n",
      "Total operating month is 86\n",
      "Average daily profit/loss is 446,309.05\n"
     ]
    }
   ],
   "source": [
    "#PyBank financial record analysis\n",
    "\n",
    "##Required Library\n",
    "from pathlib import Path\n",
    "import csv\n",
    "##Pull CSV file\n",
    "csvpath = Path(\"C:/Users/khuli/Documents/Columbia Boot Camp/20200706-Assignment 2/Python-Homework/PyBank/budget_data.csv\")\n",
    "###Manage row reader\n",
    "records = []\n",
    "with open (csvpath,'r') as csvfile:\n",
    "    csvreader = csv.reader(csvfile, delimiter = \",\")\n",
    "    csvheader = next(csvreader)\n",
    "    print(csvheader)\n",
    "###loop to calculate total month, total Amount of PRofit/Loss\n",
    "    total = 0\n",
    "    count = 0\n",
    "    minimum = 0\n",
    "    maximum = 0\n",
    "    average = 0\n",
    "    for row in csvreader:\n",
    "        total += int(row[1])\n",
    "        count += 1\n",
    "        if minimum == 0:\n",
    "            minimum = 0\n",
    "        elif row[1] < minimum:\n",
    "            minimum = row[1]\n",
    "        elif row[1] > maximum:\n",
    "            maximum = row[1]\n",
    "    average = round(total/count,2)\n",
    "    total_commas = \"{:,}\".format(total)\n",
    "    average_commas = \"{:,}\".format(average)\n",
    "    print(f\"Total profit and loss during Jan 2010 to Feb 2017 is {total_commas}\")\n",
    "    print(f\"Total operating month is {count}\")\n",
    "    print(f\"Average daily profit/loss is {average_commas}\")\n",
    "        \n",
    "###Average change in Profit/Loss, looping for daily change???\n",
    "###Idea: something to store value from prev loops\n",
    "###Looping by row to defy best day and worst day from daily change\n",
    "\n"
   ]
  },
  {
   "cell_type": "code",
   "execution_count": null,
   "metadata": {},
   "outputs": [],
   "source": []
  },
  {
   "cell_type": "code",
   "execution_count": null,
   "metadata": {},
   "outputs": [],
   "source": []
  }
 ],
 "metadata": {
  "kernelspec": {
   "display_name": "Python 3",
   "language": "python",
   "name": "python3"
  },
  "language_info": {
   "codemirror_mode": {
    "name": "ipython",
    "version": 3
   },
   "file_extension": ".py",
   "mimetype": "text/x-python",
   "name": "python",
   "nbconvert_exporter": "python",
   "pygments_lexer": "ipython3",
   "version": "3.7.6"
  }
 },
 "nbformat": 4,
 "nbformat_minor": 4
}
