{
 "cells": [
  {
   "cell_type": "code",
   "execution_count": null,
   "metadata": {},
   "outputs": [],
   "source": [
    "#PyBank financial record analysis\n",
    "\n",
    "##Required Library\n",
    "\n",
    "##Pull CSV file\n",
    "###Manage the header\n",
    "\n",
    "##Data Manipulation\n",
    "\n",
    "###Calculate total month\n",
    "\n",
    "###Net Total Amount of PRofit/Loss\n",
    "\n",
    "###Average change in Profit/Loss\n",
    "\n",
    "###Greatest increase in profit\n",
    "\n",
    "###Greatest decrease in loss"
   ]
  }
 ],
 "metadata": {
  "kernelspec": {
   "display_name": "Python 3",
   "language": "python",
   "name": "python3"
  },
  "language_info": {
   "codemirror_mode": {
    "name": "ipython",
    "version": 3
   },
   "file_extension": ".py",
   "mimetype": "text/x-python",
   "name": "python",
   "nbconvert_exporter": "python",
   "pygments_lexer": "ipython3",
   "version": "3.7.6"
  }
 },
 "nbformat": 4,
 "nbformat_minor": 4
}
